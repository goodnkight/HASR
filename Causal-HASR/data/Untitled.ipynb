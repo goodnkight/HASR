{
 "cells": [
  {
   "cell_type": "code",
   "execution_count": 15,
   "id": "d8292ed2",
   "metadata": {},
   "outputs": [
    {
     "data": {
      "text/plain": [
       "FrozenList([[0, 0, 1, 1, 2], [0, 1, 0, 1, 0]])"
      ]
     },
     "execution_count": 15,
     "metadata": {},
     "output_type": "execute_result"
    }
   ],
   "source": [
    "import pandas as pd\n",
    "\n",
    "# 示例数据\n",
    "# ut_c = utgroup.UserID.count()[lambda x: x >= 5]\n",
    "# utc_id_index = ut_c.index.codes\n",
    "\n",
    "# 假设这里有示例数据，用于展示\n",
    "data = {\n",
    "    'UserID': [1, 1, 1, 2, 2, 3],\n",
    "    'ViewDate': ['2023-01-01', '2023-01-02', '2023-01-02', '2023-01-01', '2023-01-02', '2023-01-01']\n",
    "}\n",
    "uicut_df = pd.DataFrame(data)\n",
    "\n",
    "# 根据 UserID 和 ViewDate 进行分组，并计数\n",
    "utgroup = uicut_df.groupby(['UserID', 'ViewDate'])\n",
    "ut_c = utgroup.size()[lambda x: x >= 1]  # 假设筛选条件为计数大于等于 2\n",
    "\n",
    "utc_id = ut_c.index.levels\n",
    "utc_id_index = ut_c.index.codes\n",
    "\n",
    "utc_id\n",
    "utc_id_index\n",
    "\n",
    "\n"
   ]
  },
  {
   "cell_type": "code",
   "execution_count": 16,
   "id": "6c1f878b",
   "metadata": {},
   "outputs": [
    {
     "name": "stdout",
     "output_type": "stream",
     "text": [
      "5\n",
      "0\n",
      "0\n",
      "1\n",
      "2023-01-01\n",
      "0\n",
      "1\n",
      "1\n",
      "2023-01-02\n",
      "1\n",
      "0\n",
      "2\n",
      "2023-01-01\n",
      "1\n",
      "1\n",
      "2\n",
      "2023-01-02\n",
      "2\n",
      "0\n",
      "3\n",
      "2023-01-01\n",
      "{1: ['2023-01-01', '2023-01-02'], 2: ['2023-01-01', '2023-01-02'], 3: ['2023-01-01']}\n"
     ]
    }
   ],
   "source": [
    "# 构建 user_session 字典\n",
    "user_session = {}\n",
    "L = len(utc_id_index[0])\n",
    "print(L)\n",
    "for i in range(L): \n",
    "    loc_i = utc_id_index[0][i]\n",
    "    loc_j = utc_id_index[1][i]\n",
    "    print(loc_i)\n",
    "    print(loc_j)\n",
    "    uid = utc_id[0][loc_i]\n",
    "    print(uid)\n",
    "    tid = utc_id[1][loc_j]\n",
    "    print(tid)\n",
    "    if uid not in user_session:\n",
    "        user_session[uid] = []\n",
    "    user_session[uid].append(tid)\n",
    "\n",
    "print((user_session))  # 输出用户会话字典中的用户数量"
   ]
  },
  {
   "cell_type": "code",
   "execution_count": 1,
   "id": "eb0b1aad",
   "metadata": {},
   "outputs": [],
   "source": [
    "import pandas as pd\n",
    "\n",
    "data = {\n",
    "    'use_ID': [101, 102, 103, 101, 104],\n",
    "    'ite_ID': [201, 202, 203, 202, 204]\n",
    "}\n",
    "\n",
    "df_cut = pd.DataFrame(data)\n"
   ]
  },
  {
   "cell_type": "code",
   "execution_count": 2,
   "id": "4c28a3b5",
   "metadata": {},
   "outputs": [],
   "source": [
    "ui_array = df_cut[['use_ID','ite_ID']].values\n"
   ]
  },
  {
   "cell_type": "code",
   "execution_count": 4,
   "id": "6eda9e4e",
   "metadata": {},
   "outputs": [],
   "source": [
    "from collections import defaultdict\n",
    "uid_turn = defaultdict(int)\n",
    "iid_turn = defaultdict(int)\n",
    "uid_cnt = 0\n",
    "iid_cnt = 1\n"
   ]
  },
  {
   "cell_type": "code",
   "execution_count": 6,
   "id": "a2372e9f",
   "metadata": {},
   "outputs": [],
   "source": [
    "for row in ui_array:\n",
    "    uid = row[0]\n",
    "    iid = row[1]\n",
    "    if uid not in uid_turn:\n",
    "        uid_turn[uid] = uid_cnt\n",
    "        uid_cnt += 1\n",
    "    if iid not in iid_turn:\n",
    "        iid_turn[iid] = iid_cnt\n",
    "        iid_cnt += 1\n"
   ]
  },
  {
   "cell_type": "code",
   "execution_count": 8,
   "id": "2482371b",
   "metadata": {},
   "outputs": [
    {
     "data": {
      "text/plain": [
       "4"
      ]
     },
     "execution_count": 8,
     "metadata": {},
     "output_type": "execute_result"
    }
   ],
   "source": [
    "len(uid_turn)\n"
   ]
  },
  {
   "cell_type": "code",
   "execution_count": 9,
   "id": "4861e694",
   "metadata": {},
   "outputs": [
    {
     "data": {
      "text/plain": [
       "4"
      ]
     },
     "execution_count": 9,
     "metadata": {},
     "output_type": "execute_result"
    }
   ],
   "source": [
    "\n",
    "len(iid_turn)\n"
   ]
  },
  {
   "cell_type": "code",
   "execution_count": null,
   "id": "4775044c",
   "metadata": {},
   "outputs": [],
   "source": []
  }
 ],
 "metadata": {
  "kernelspec": {
   "display_name": "Python 3 (ipykernel)",
   "language": "python",
   "name": "python3"
  },
  "language_info": {
   "codemirror_mode": {
    "name": "ipython",
    "version": 3
   },
   "file_extension": ".py",
   "mimetype": "text/x-python",
   "name": "python",
   "nbconvert_exporter": "python",
   "pygments_lexer": "ipython3",
   "version": "3.9.13"
  }
 },
 "nbformat": 4,
 "nbformat_minor": 5
}
