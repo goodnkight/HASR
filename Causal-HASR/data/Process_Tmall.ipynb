{
 "cells": [
  {
   "cell_type": "code",
   "execution_count": 1,
   "metadata": {},
   "outputs": [],
   "source": [
    "import pandas as pd\n",
    "import numpy as np\n",
    "import json\n",
    "from collections import defaultdict"
   ]
  },
  {
   "cell_type": "code",
   "execution_count": 2,
   "metadata": {},
   "outputs": [],
   "source": [
    "pd.set_option('display.max_rows', 10)"
   ]
  },
  {
   "cell_type": "code",
   "execution_count": 3,
   "metadata": {},
   "outputs": [
    {
     "ename": "FileNotFoundError",
     "evalue": "[Errno 2] No such file or directory: 'ijcai2016_taobao.csv'",
     "output_type": "error",
     "traceback": [
      "\u001b[1;31m---------------------------------------------------------------------------\u001b[0m",
      "\u001b[1;31mFileNotFoundError\u001b[0m                         Traceback (most recent call last)",
      "\u001b[1;32m~\\AppData\\Local\\Temp\\ipykernel_10652\\1345696315.py\u001b[0m in \u001b[0;36m<module>\u001b[1;34m\u001b[0m\n\u001b[1;32m----> 1\u001b[1;33m \u001b[0mdf\u001b[0m \u001b[1;33m=\u001b[0m \u001b[0mpd\u001b[0m\u001b[1;33m.\u001b[0m\u001b[0mread_csv\u001b[0m\u001b[1;33m(\u001b[0m\u001b[1;34m'ijcai2016_taobao.csv'\u001b[0m\u001b[1;33m,\u001b[0m \u001b[0msep\u001b[0m\u001b[1;33m=\u001b[0m\u001b[1;34m','\u001b[0m\u001b[1;33m)\u001b[0m\u001b[1;33m\u001b[0m\u001b[1;33m\u001b[0m\u001b[0m\n\u001b[0m\u001b[0;32m      2\u001b[0m \u001b[0mlen\u001b[0m\u001b[1;33m(\u001b[0m\u001b[0mdf\u001b[0m\u001b[1;33m)\u001b[0m\u001b[1;33m\u001b[0m\u001b[1;33m\u001b[0m\u001b[0m\n",
      "\u001b[1;32mD:\\anaconda3\\lib\\site-packages\\pandas\\util\\_decorators.py\u001b[0m in \u001b[0;36mwrapper\u001b[1;34m(*args, **kwargs)\u001b[0m\n\u001b[0;32m    309\u001b[0m                     \u001b[0mstacklevel\u001b[0m\u001b[1;33m=\u001b[0m\u001b[0mstacklevel\u001b[0m\u001b[1;33m,\u001b[0m\u001b[1;33m\u001b[0m\u001b[1;33m\u001b[0m\u001b[0m\n\u001b[0;32m    310\u001b[0m                 )\n\u001b[1;32m--> 311\u001b[1;33m             \u001b[1;32mreturn\u001b[0m \u001b[0mfunc\u001b[0m\u001b[1;33m(\u001b[0m\u001b[1;33m*\u001b[0m\u001b[0margs\u001b[0m\u001b[1;33m,\u001b[0m \u001b[1;33m**\u001b[0m\u001b[0mkwargs\u001b[0m\u001b[1;33m)\u001b[0m\u001b[1;33m\u001b[0m\u001b[1;33m\u001b[0m\u001b[0m\n\u001b[0m\u001b[0;32m    312\u001b[0m \u001b[1;33m\u001b[0m\u001b[0m\n\u001b[0;32m    313\u001b[0m         \u001b[1;32mreturn\u001b[0m \u001b[0mwrapper\u001b[0m\u001b[1;33m\u001b[0m\u001b[1;33m\u001b[0m\u001b[0m\n",
      "\u001b[1;32mD:\\anaconda3\\lib\\site-packages\\pandas\\io\\parsers\\readers.py\u001b[0m in \u001b[0;36mread_csv\u001b[1;34m(filepath_or_buffer, sep, delimiter, header, names, index_col, usecols, squeeze, prefix, mangle_dupe_cols, dtype, engine, converters, true_values, false_values, skipinitialspace, skiprows, skipfooter, nrows, na_values, keep_default_na, na_filter, verbose, skip_blank_lines, parse_dates, infer_datetime_format, keep_date_col, date_parser, dayfirst, cache_dates, iterator, chunksize, compression, thousands, decimal, lineterminator, quotechar, quoting, doublequote, escapechar, comment, encoding, encoding_errors, dialect, error_bad_lines, warn_bad_lines, on_bad_lines, delim_whitespace, low_memory, memory_map, float_precision, storage_options)\u001b[0m\n\u001b[0;32m    676\u001b[0m     \u001b[0mkwds\u001b[0m\u001b[1;33m.\u001b[0m\u001b[0mupdate\u001b[0m\u001b[1;33m(\u001b[0m\u001b[0mkwds_defaults\u001b[0m\u001b[1;33m)\u001b[0m\u001b[1;33m\u001b[0m\u001b[1;33m\u001b[0m\u001b[0m\n\u001b[0;32m    677\u001b[0m \u001b[1;33m\u001b[0m\u001b[0m\n\u001b[1;32m--> 678\u001b[1;33m     \u001b[1;32mreturn\u001b[0m \u001b[0m_read\u001b[0m\u001b[1;33m(\u001b[0m\u001b[0mfilepath_or_buffer\u001b[0m\u001b[1;33m,\u001b[0m \u001b[0mkwds\u001b[0m\u001b[1;33m)\u001b[0m\u001b[1;33m\u001b[0m\u001b[1;33m\u001b[0m\u001b[0m\n\u001b[0m\u001b[0;32m    679\u001b[0m \u001b[1;33m\u001b[0m\u001b[0m\n\u001b[0;32m    680\u001b[0m \u001b[1;33m\u001b[0m\u001b[0m\n",
      "\u001b[1;32mD:\\anaconda3\\lib\\site-packages\\pandas\\io\\parsers\\readers.py\u001b[0m in \u001b[0;36m_read\u001b[1;34m(filepath_or_buffer, kwds)\u001b[0m\n\u001b[0;32m    573\u001b[0m \u001b[1;33m\u001b[0m\u001b[0m\n\u001b[0;32m    574\u001b[0m     \u001b[1;31m# Create the parser.\u001b[0m\u001b[1;33m\u001b[0m\u001b[1;33m\u001b[0m\u001b[0m\n\u001b[1;32m--> 575\u001b[1;33m     \u001b[0mparser\u001b[0m \u001b[1;33m=\u001b[0m \u001b[0mTextFileReader\u001b[0m\u001b[1;33m(\u001b[0m\u001b[0mfilepath_or_buffer\u001b[0m\u001b[1;33m,\u001b[0m \u001b[1;33m**\u001b[0m\u001b[0mkwds\u001b[0m\u001b[1;33m)\u001b[0m\u001b[1;33m\u001b[0m\u001b[1;33m\u001b[0m\u001b[0m\n\u001b[0m\u001b[0;32m    576\u001b[0m \u001b[1;33m\u001b[0m\u001b[0m\n\u001b[0;32m    577\u001b[0m     \u001b[1;32mif\u001b[0m \u001b[0mchunksize\u001b[0m \u001b[1;32mor\u001b[0m \u001b[0miterator\u001b[0m\u001b[1;33m:\u001b[0m\u001b[1;33m\u001b[0m\u001b[1;33m\u001b[0m\u001b[0m\n",
      "\u001b[1;32mD:\\anaconda3\\lib\\site-packages\\pandas\\io\\parsers\\readers.py\u001b[0m in \u001b[0;36m__init__\u001b[1;34m(self, f, engine, **kwds)\u001b[0m\n\u001b[0;32m    930\u001b[0m \u001b[1;33m\u001b[0m\u001b[0m\n\u001b[0;32m    931\u001b[0m         \u001b[0mself\u001b[0m\u001b[1;33m.\u001b[0m\u001b[0mhandles\u001b[0m\u001b[1;33m:\u001b[0m \u001b[0mIOHandles\u001b[0m \u001b[1;33m|\u001b[0m \u001b[1;32mNone\u001b[0m \u001b[1;33m=\u001b[0m \u001b[1;32mNone\u001b[0m\u001b[1;33m\u001b[0m\u001b[1;33m\u001b[0m\u001b[0m\n\u001b[1;32m--> 932\u001b[1;33m         \u001b[0mself\u001b[0m\u001b[1;33m.\u001b[0m\u001b[0m_engine\u001b[0m \u001b[1;33m=\u001b[0m \u001b[0mself\u001b[0m\u001b[1;33m.\u001b[0m\u001b[0m_make_engine\u001b[0m\u001b[1;33m(\u001b[0m\u001b[0mf\u001b[0m\u001b[1;33m,\u001b[0m \u001b[0mself\u001b[0m\u001b[1;33m.\u001b[0m\u001b[0mengine\u001b[0m\u001b[1;33m)\u001b[0m\u001b[1;33m\u001b[0m\u001b[1;33m\u001b[0m\u001b[0m\n\u001b[0m\u001b[0;32m    933\u001b[0m \u001b[1;33m\u001b[0m\u001b[0m\n\u001b[0;32m    934\u001b[0m     \u001b[1;32mdef\u001b[0m \u001b[0mclose\u001b[0m\u001b[1;33m(\u001b[0m\u001b[0mself\u001b[0m\u001b[1;33m)\u001b[0m\u001b[1;33m:\u001b[0m\u001b[1;33m\u001b[0m\u001b[1;33m\u001b[0m\u001b[0m\n",
      "\u001b[1;32mD:\\anaconda3\\lib\\site-packages\\pandas\\io\\parsers\\readers.py\u001b[0m in \u001b[0;36m_make_engine\u001b[1;34m(self, f, engine)\u001b[0m\n\u001b[0;32m   1214\u001b[0m             \u001b[1;31m# \"Union[str, PathLike[str], ReadCsvBuffer[bytes], ReadCsvBuffer[str]]\"\u001b[0m\u001b[1;33m\u001b[0m\u001b[1;33m\u001b[0m\u001b[0m\n\u001b[0;32m   1215\u001b[0m             \u001b[1;31m# , \"str\", \"bool\", \"Any\", \"Any\", \"Any\", \"Any\", \"Any\"\u001b[0m\u001b[1;33m\u001b[0m\u001b[1;33m\u001b[0m\u001b[0m\n\u001b[1;32m-> 1216\u001b[1;33m             self.handles = get_handle(  # type: ignore[call-overload]\n\u001b[0m\u001b[0;32m   1217\u001b[0m                 \u001b[0mf\u001b[0m\u001b[1;33m,\u001b[0m\u001b[1;33m\u001b[0m\u001b[1;33m\u001b[0m\u001b[0m\n\u001b[0;32m   1218\u001b[0m                 \u001b[0mmode\u001b[0m\u001b[1;33m,\u001b[0m\u001b[1;33m\u001b[0m\u001b[1;33m\u001b[0m\u001b[0m\n",
      "\u001b[1;32mD:\\anaconda3\\lib\\site-packages\\pandas\\io\\common.py\u001b[0m in \u001b[0;36mget_handle\u001b[1;34m(path_or_buf, mode, encoding, compression, memory_map, is_text, errors, storage_options)\u001b[0m\n\u001b[0;32m    784\u001b[0m         \u001b[1;32mif\u001b[0m \u001b[0mioargs\u001b[0m\u001b[1;33m.\u001b[0m\u001b[0mencoding\u001b[0m \u001b[1;32mand\u001b[0m \u001b[1;34m\"b\"\u001b[0m \u001b[1;32mnot\u001b[0m \u001b[1;32min\u001b[0m \u001b[0mioargs\u001b[0m\u001b[1;33m.\u001b[0m\u001b[0mmode\u001b[0m\u001b[1;33m:\u001b[0m\u001b[1;33m\u001b[0m\u001b[1;33m\u001b[0m\u001b[0m\n\u001b[0;32m    785\u001b[0m             \u001b[1;31m# Encoding\u001b[0m\u001b[1;33m\u001b[0m\u001b[1;33m\u001b[0m\u001b[0m\n\u001b[1;32m--> 786\u001b[1;33m             handle = open(\n\u001b[0m\u001b[0;32m    787\u001b[0m                 \u001b[0mhandle\u001b[0m\u001b[1;33m,\u001b[0m\u001b[1;33m\u001b[0m\u001b[1;33m\u001b[0m\u001b[0m\n\u001b[0;32m    788\u001b[0m                 \u001b[0mioargs\u001b[0m\u001b[1;33m.\u001b[0m\u001b[0mmode\u001b[0m\u001b[1;33m,\u001b[0m\u001b[1;33m\u001b[0m\u001b[1;33m\u001b[0m\u001b[0m\n",
      "\u001b[1;31mFileNotFoundError\u001b[0m: [Errno 2] No such file or directory: 'ijcai2016_taobao.csv'"
     ]
    }
   ],
   "source": [
    "df = pd.read_csv('ijcai2016_taobao.csv', sep=',')\n",
    "len(df)"
   ]
  },
  {
   "cell_type": "code",
   "execution_count": 4,
   "metadata": {},
   "outputs": [
    {
     "data": {
      "text/plain": [
       "35179371"
      ]
     },
     "execution_count": 4,
     "metadata": {},
     "output_type": "execute_result"
    }
   ],
   "source": [
    "click_df = df[df['act_ID']==0]\n",
    "# 0” denotes “click” while “1” for “buy”\n",
    "len(click_df)"
   ]
  },
  {
   "cell_type": "code",
   "execution_count": 5,
   "metadata": {},
   "outputs": [
    {
     "data": {
      "text/plain": [
       "27500939"
      ]
     },
     "execution_count": 5,
     "metadata": {},
     "output_type": "execute_result"
    }
   ],
   "source": [
    "click_df = click_df.drop_duplicates()\n",
    "uit_df = click_df[['use_ID','ite_ID','time']]\n",
    "len(uit_df)"
   ]
  },
  {
   "cell_type": "code",
   "execution_count": 6,
   "metadata": {},
   "outputs": [],
   "source": [
    "month_uit_df = uit_df[uit_df['time']<=20150819]\n",
    "sort_uit_df = month_uit_df.sort_values(by=['use_ID','time'],ascending=[True,True]) "
   ]
  },
  {
   "cell_type": "code",
   "execution_count": 8,
   "metadata": {},
   "outputs": [
    {
     "data": {
      "text/html": [
       "<div>\n",
       "<style scoped>\n",
       "    .dataframe tbody tr th:only-of-type {\n",
       "        vertical-align: middle;\n",
       "    }\n",
       "\n",
       "    .dataframe tbody tr th {\n",
       "        vertical-align: top;\n",
       "    }\n",
       "\n",
       "    .dataframe thead th {\n",
       "        text-align: right;\n",
       "    }\n",
       "</style>\n",
       "<table border=\"1\" class=\"dataframe\">\n",
       "  <thead>\n",
       "    <tr style=\"text-align: right;\">\n",
       "      <th></th>\n",
       "      <th>use_ID</th>\n",
       "      <th>ite_ID</th>\n",
       "      <th>time</th>\n",
       "    </tr>\n",
       "  </thead>\n",
       "  <tbody>\n",
       "    <tr>\n",
       "      <th>32864073</th>\n",
       "      <td>48</td>\n",
       "      <td>777353</td>\n",
       "      <td>20150701</td>\n",
       "    </tr>\n",
       "    <tr>\n",
       "      <th>32894869</th>\n",
       "      <td>48</td>\n",
       "      <td>1893320</td>\n",
       "      <td>20150701</td>\n",
       "    </tr>\n",
       "    <tr>\n",
       "      <th>33348718</th>\n",
       "      <td>48</td>\n",
       "      <td>2048619</td>\n",
       "      <td>20150701</td>\n",
       "    </tr>\n",
       "    <tr>\n",
       "      <th>34098119</th>\n",
       "      <td>48</td>\n",
       "      <td>1056298</td>\n",
       "      <td>20150701</td>\n",
       "    </tr>\n",
       "    <tr>\n",
       "      <th>44035967</th>\n",
       "      <td>48</td>\n",
       "      <td>280273</td>\n",
       "      <td>20150702</td>\n",
       "    </tr>\n",
       "    <tr>\n",
       "      <th>...</th>\n",
       "      <td>...</td>\n",
       "      <td>...</td>\n",
       "      <td>...</td>\n",
       "    </tr>\n",
       "    <tr>\n",
       "      <th>18616208</th>\n",
       "      <td>2063585</td>\n",
       "      <td>1373150</td>\n",
       "      <td>20150803</td>\n",
       "    </tr>\n",
       "    <tr>\n",
       "      <th>9439292</th>\n",
       "      <td>2063585</td>\n",
       "      <td>2252494</td>\n",
       "      <td>20150804</td>\n",
       "    </tr>\n",
       "    <tr>\n",
       "      <th>13972481</th>\n",
       "      <td>2063585</td>\n",
       "      <td>1242815</td>\n",
       "      <td>20150804</td>\n",
       "    </tr>\n",
       "    <tr>\n",
       "      <th>33338211</th>\n",
       "      <td>2063585</td>\n",
       "      <td>73623</td>\n",
       "      <td>20150804</td>\n",
       "    </tr>\n",
       "    <tr>\n",
       "      <th>33435804</th>\n",
       "      <td>2063585</td>\n",
       "      <td>1254879</td>\n",
       "      <td>20150804</td>\n",
       "    </tr>\n",
       "  </tbody>\n",
       "</table>\n",
       "<p>4037931 rows × 3 columns</p>\n",
       "</div>"
      ],
      "text/plain": [
       "           use_ID   ite_ID      time\n",
       "32864073       48   777353  20150701\n",
       "32894869       48  1893320  20150701\n",
       "33348718       48  2048619  20150701\n",
       "34098119       48  1056298  20150701\n",
       "44035967       48   280273  20150702\n",
       "...           ...      ...       ...\n",
       "18616208  2063585  1373150  20150803\n",
       "9439292   2063585  2252494  20150804\n",
       "13972481  2063585  1242815  20150804\n",
       "33338211  2063585    73623  20150804\n",
       "33435804  2063585  1254879  20150804\n",
       "\n",
       "[4037931 rows x 3 columns]"
      ]
     },
     "execution_count": 8,
     "metadata": {},
     "output_type": "execute_result"
    }
   ],
   "source": [
    "# 去除交互少于N的user和item\n",
    "ui_cnt = sort_uit_df['use_ID'].value_counts()\n",
    "u_index = ui_cnt[ui_cnt>=43].index\n",
    "ucut_df = sort_uit_df[sort_uit_df['use_ID'].isin(u_index)]\n",
    "\n",
    "iu_cnt = ucut_df['ite_ID'].value_counts()\n",
    "i_index = iu_cnt[iu_cnt>=5].index\n",
    "uicut_df = ucut_df[ucut_df['ite_ID'].isin(i_index)]\n",
    "uicut_df"
   ]
  },
  {
   "cell_type": "code",
   "execution_count": 21,
   "metadata": {},
   "outputs": [
    {
     "data": {
      "text/plain": [
       "use_ID     54705\n",
       "ite_ID    227096\n",
       "time          50\n",
       "dtype: int64"
      ]
     },
     "execution_count": 21,
     "metadata": {},
     "output_type": "execute_result"
    }
   ],
   "source": [
    "uicut_df.nunique()"
   ]
  },
  {
   "cell_type": "code",
   "execution_count": 23,
   "metadata": {},
   "outputs": [],
   "source": [
    "utgroup = uicut_df.groupby(['use_ID','time'])\n",
    "ut_c = utgroup.ite_ID.count()[lambda x: x >= 5]\n",
    "utc_id = ut_c.index.levels\n",
    "utc_id_index = ut_c.index.codes"
   ]
  },
  {
   "cell_type": "code",
   "execution_count": 24,
   "metadata": {},
   "outputs": [
    {
     "data": {
      "text/plain": [
       "53796"
      ]
     },
     "execution_count": 24,
     "metadata": {},
     "output_type": "execute_result"
    }
   ],
   "source": [
    "user_session = {}\n",
    "L = len(utc_id_index[0])\n",
    "for i in range(L): \n",
    "    loc_i = utc_id_index[0][i]\n",
    "    loc_j = utc_id_index[1][i]\n",
    "    uid = utc_id[0][loc_i]\n",
    "    tid = utc_id[1][loc_j]\n",
    "    if uid not in user_session:\n",
    "        user_session[uid] = []\n",
    "    user_session[uid].append(tid)\n",
    "    \n",
    "len(user_session)"
   ]
  },
  {
   "cell_type": "code",
   "execution_count": 25,
   "metadata": {},
   "outputs": [
    {
     "data": {
      "text/html": [
       "<div>\n",
       "<style scoped>\n",
       "    .dataframe tbody tr th:only-of-type {\n",
       "        vertical-align: middle;\n",
       "    }\n",
       "\n",
       "    .dataframe tbody tr th {\n",
       "        vertical-align: top;\n",
       "    }\n",
       "\n",
       "    .dataframe thead th {\n",
       "        text-align: right;\n",
       "    }\n",
       "</style>\n",
       "<table border=\"1\" class=\"dataframe\">\n",
       "  <thead>\n",
       "    <tr style=\"text-align: right;\">\n",
       "      <th></th>\n",
       "      <th>use_ID</th>\n",
       "      <th>ite_ID</th>\n",
       "      <th>time</th>\n",
       "    </tr>\n",
       "  </thead>\n",
       "  <tbody>\n",
       "  </tbody>\n",
       "</table>\n",
       "</div>"
      ],
      "text/plain": [
       "Empty DataFrame\n",
       "Columns: [use_ID, ite_ID, time]\n",
       "Index: []"
      ]
     },
     "execution_count": 25,
     "metadata": {},
     "output_type": "execute_result"
    }
   ],
   "source": [
    "df_cut=pd.DataFrame(columns=uicut_df.keys())\n",
    "df_cut"
   ]
  },
  {
   "cell_type": "code",
   "execution_count": 27,
   "metadata": {},
   "outputs": [
    {
     "name": "stdout",
     "output_type": "stream",
     "text": [
      "cnt =  1000\n",
      "cnt =  2000\n",
      "cnt =  3000\n",
      "cnt =  4000\n",
      "cnt =  5000\n",
      "cnt =  6000\n",
      "cnt =  7000\n",
      "cnt =  8000\n",
      "cnt =  9000\n",
      "cnt =  10000\n",
      "cnt =  11000\n",
      "cnt =  12000\n",
      "cnt =  13000\n",
      "cnt =  14000\n",
      "cnt =  15000\n",
      "cnt =  16000\n",
      "cnt =  17000\n",
      "cnt =  18000\n",
      "cnt =  19000\n",
      "cnt =  20000\n",
      "cnt =  21000\n",
      "cnt =  22000\n",
      "cnt =  23000\n",
      "cnt =  24000\n",
      "cnt =  25000\n",
      "cnt =  26000\n",
      "cnt =  27000\n",
      "cnt =  28000\n",
      "cnt =  29000\n",
      "cnt =  30000\n"
     ]
    }
   ],
   "source": [
    "# 已经去除了session数量小于2的用户\n",
    "cnt = 0\n",
    "short_c = 0\n",
    "for uid in user_session: \n",
    "    if len(user_session[uid])<4:\n",
    "        short_c+=1\n",
    "        continue\n",
    "    cnt+=1\n",
    "    if cnt%1000==0:\n",
    "        print(\"cnt = \",cnt)\n",
    "    tid = user_session[uid]\n",
    "    df_oneuser = uicut_df[uicut_df[\"use_ID\"]==uid]\n",
    "#     df_oneuser\n",
    "    df_row = df_oneuser[df_oneuser[\"time\"].isin(tid)]\n",
    "    df_cut = pd.concat([df_cut, df_row],ignore_index=True)"
   ]
  },
  {
   "cell_type": "code",
   "execution_count": null,
   "metadata": {},
   "outputs": [],
   "source": [
    "df_cut.to_csv('Tmall16_m78.csv',index=0)"
   ]
  },
  {
   "cell_type": "code",
   "execution_count": 28,
   "metadata": {},
   "outputs": [
    {
     "data": {
      "text/plain": [
       "use_ID     30846\n",
       "ite_ID    224185\n",
       "time          50\n",
       "dtype: int64"
      ]
     },
     "execution_count": 28,
     "metadata": {},
     "output_type": "execute_result"
    }
   ],
   "source": [
    "df_cut=df_cut.drop_duplicates()\n",
    "df_cut.nunique()"
   ]
  },
  {
   "cell_type": "code",
   "execution_count": null,
   "metadata": {},
   "outputs": [],
   "source": [
    "# df_cut[[\"time\"]] = df_cut[[\"time\"]]-20150700"
   ]
  },
  {
   "cell_type": "code",
   "execution_count": null,
   "metadata": {},
   "outputs": [],
   "source": [
    "ui_array = df_cut[['use_ID','ite_ID']].values\n",
    "uid_turn = defaultdict(int)\n",
    "iid_turn = defaultdict(int)\n",
    "uid_cnt = 0\n",
    "# uid_cnt = 1\n",
    "# 因为用了np.zero生产数据,第0行也要有实际数据,所以uid要从0开始\n",
    "# maskid是0，对应的是item，userid可以是0\n",
    "iid_cnt = 1\n",
    "for row in ui_array:\n",
    "    uid = row[0]\n",
    "    iid = row[1]\n",
    "    if uid not in uid_turn:\n",
    "        uid_turn[uid] = uid_cnt\n",
    "        uid_cnt += 1\n",
    "    if iid not in iid_turn:\n",
    "        iid_turn[iid] = iid_cnt\n",
    "        iid_cnt += 1\n",
    "\n",
    "len(uid_turn)\n",
    "len(iid_turn)"
   ]
  },
  {
   "cell_type": "code",
   "execution_count": null,
   "metadata": {},
   "outputs": [],
   "source": [
    "uit_value = uit_df.values\n",
    "userList = {}\n",
    "# sessionList = {}\n",
    "for row in uit_value:\n",
    "    uid = uid_turn[row[0]]\n",
    "    iid = iid_turn[row[1]]\n",
    "#     uid = row[0]\n",
    "#     iid = row[1]\n",
    "    tid = row[2]\n",
    "    if uid not in userList:\n",
    "        userList[uid] = []\n",
    "        \n",
    "    userList[uid].append([iid,tid])\n",
    "\n",
    "#     if tid not in sessionList:\n",
    "#         userList.append()\n",
    "#         sessionList[tid] = []\n",
    "#     sessionList[tid].append(iid)"
   ]
  },
  {
   "cell_type": "code",
   "execution_count": null,
   "metadata": {},
   "outputs": [],
   "source": [
    "ut_List = {}\n",
    "for uid in userList:\n",
    "    it_list = userList[uid]\n",
    "    sessionList = {}\n",
    "    for row in it_list:\n",
    "        iid = row[0]\n",
    "        tid = row[1]\n",
    "        if tid not in sessionList:\n",
    "            sessionList[tid] = []\n",
    "        \n",
    "        sessionList[tid].append(iid)\n",
    "    \n",
    "    ut_List[uid] = sessionList\n",
    "        "
   ]
  },
  {
   "cell_type": "code",
   "execution_count": null,
   "metadata": {},
   "outputs": [],
   "source": [
    "u_List = {}\n",
    "for uid in ut_List:\n",
    "    u_List[uid] = []\n",
    "    for tid in ut_List[uid]:\n",
    "        u_List[uid].append(ut_List[uid][tid])"
   ]
  },
  {
   "cell_type": "code",
   "execution_count": null,
   "metadata": {},
   "outputs": [],
   "source": [
    "json_u_List = json.dumps(u_List)\n",
    "saveFile(json_u_List,'Tmall16.json')"
   ]
  }
 ],
 "metadata": {
  "kernelspec": {
   "display_name": "Python 3 (ipykernel)",
   "language": "python",
   "name": "python3"
  },
  "language_info": {
   "codemirror_mode": {
    "name": "ipython",
    "version": 3
   },
   "file_extension": ".py",
   "mimetype": "text/x-python",
   "name": "python",
   "nbconvert_exporter": "python",
   "pygments_lexer": "ipython3",
   "version": "3.9.13"
  }
 },
 "nbformat": 4,
 "nbformat_minor": 2
}
