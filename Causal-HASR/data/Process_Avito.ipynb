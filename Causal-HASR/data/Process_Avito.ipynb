{
 "cells": [
  {
   "cell_type": "code",
   "execution_count": 1,
   "metadata": {},
   "outputs": [],
   "source": [
    "import pandas as pd\n",
    "import numpy as np\n",
    "import json\n",
    "from collections import defaultdict"
   ]
  },
  {
   "cell_type": "code",
   "execution_count": 2,
   "metadata": {},
   "outputs": [],
   "source": [
    "pd.set_option('display.max_rows', 10)"
   ]
  },
  {
   "cell_type": "code",
   "execution_count": 3,
   "metadata": {},
   "outputs": [
    {
     "data": {
      "text/plain": [
       "42721630"
      ]
     },
     "execution_count": 3,
     "metadata": {},
     "output_type": "execute_result"
    }
   ],
   "source": [
    "df = pd.read_csv('VSDate_m5.csv', sep=',')\n",
    "len(df)"
   ]
  },
  {
   "cell_type": "code",
   "execution_count": 4,
   "metadata": {},
   "outputs": [
    {
     "data": {
      "text/html": [
       "<div>\n",
       "<style scoped>\n",
       "    .dataframe tbody tr th:only-of-type {\n",
       "        vertical-align: middle;\n",
       "    }\n",
       "\n",
       "    .dataframe tbody tr th {\n",
       "        vertical-align: top;\n",
       "    }\n",
       "\n",
       "    .dataframe thead th {\n",
       "        text-align: right;\n",
       "    }\n",
       "</style>\n",
       "<table border=\"1\" class=\"dataframe\">\n",
       "  <thead>\n",
       "    <tr style=\"text-align: right;\">\n",
       "      <th></th>\n",
       "      <th>UserID</th>\n",
       "      <th>AdID</th>\n",
       "      <th>ViewDate</th>\n",
       "    </tr>\n",
       "  </thead>\n",
       "  <tbody>\n",
       "    <tr>\n",
       "      <th>0</th>\n",
       "      <td>3</td>\n",
       "      <td>7392969</td>\n",
       "      <td>2015-05-13</td>\n",
       "    </tr>\n",
       "    <tr>\n",
       "      <th>1</th>\n",
       "      <td>3</td>\n",
       "      <td>2909491</td>\n",
       "      <td>2015-05-14</td>\n",
       "    </tr>\n",
       "    <tr>\n",
       "      <th>2</th>\n",
       "      <td>3</td>\n",
       "      <td>23061227</td>\n",
       "      <td>2015-05-14</td>\n",
       "    </tr>\n",
       "    <tr>\n",
       "      <th>3</th>\n",
       "      <td>3</td>\n",
       "      <td>29503128</td>\n",
       "      <td>2015-05-14</td>\n",
       "    </tr>\n",
       "    <tr>\n",
       "      <th>4</th>\n",
       "      <td>3</td>\n",
       "      <td>12872384</td>\n",
       "      <td>2015-05-14</td>\n",
       "    </tr>\n",
       "    <tr>\n",
       "      <th>...</th>\n",
       "      <td>...</td>\n",
       "      <td>...</td>\n",
       "      <td>...</td>\n",
       "    </tr>\n",
       "    <tr>\n",
       "      <th>42721625</th>\n",
       "      <td>4339860</td>\n",
       "      <td>32612365</td>\n",
       "      <td>2015-05-17</td>\n",
       "    </tr>\n",
       "    <tr>\n",
       "      <th>42721626</th>\n",
       "      <td>4339860</td>\n",
       "      <td>20760100</td>\n",
       "      <td>2015-05-17</td>\n",
       "    </tr>\n",
       "    <tr>\n",
       "      <th>42721627</th>\n",
       "      <td>4339860</td>\n",
       "      <td>11728661</td>\n",
       "      <td>2015-05-17</td>\n",
       "    </tr>\n",
       "    <tr>\n",
       "      <th>42721628</th>\n",
       "      <td>4339860</td>\n",
       "      <td>434491</td>\n",
       "      <td>2015-05-17</td>\n",
       "    </tr>\n",
       "    <tr>\n",
       "      <th>42721629</th>\n",
       "      <td>4339860</td>\n",
       "      <td>4229889</td>\n",
       "      <td>2015-05-17</td>\n",
       "    </tr>\n",
       "  </tbody>\n",
       "</table>\n",
       "<p>24892233 rows × 3 columns</p>\n",
       "</div>"
      ],
      "text/plain": [
       "           UserID      AdID    ViewDate\n",
       "0               3   7392969  2015-05-13\n",
       "1               3   2909491  2015-05-14\n",
       "2               3  23061227  2015-05-14\n",
       "3               3  29503128  2015-05-14\n",
       "4               3  12872384  2015-05-14\n",
       "...           ...       ...         ...\n",
       "42721625  4339860  32612365  2015-05-17\n",
       "42721626  4339860  20760100  2015-05-17\n",
       "42721627  4339860  11728661  2015-05-17\n",
       "42721628  4339860    434491  2015-05-17\n",
       "42721629  4339860   4229889  2015-05-17\n",
       "\n",
       "[24892233 rows x 3 columns]"
      ]
     },
     "execution_count": 4,
     "metadata": {},
     "output_type": "execute_result"
    }
   ],
   "source": [
    "df_m5d13 = df[df[\"ViewDate\"]>=\"2015-05-13\"]\n",
    "df_m5d13"
   ]
  },
  {
   "cell_type": "code",
   "execution_count": 5,
   "metadata": {},
   "outputs": [
    {
     "data": {
      "text/html": [
       "<div>\n",
       "<style scoped>\n",
       "    .dataframe tbody tr th:only-of-type {\n",
       "        vertical-align: middle;\n",
       "    }\n",
       "\n",
       "    .dataframe tbody tr th {\n",
       "        vertical-align: top;\n",
       "    }\n",
       "\n",
       "    .dataframe thead th {\n",
       "        text-align: right;\n",
       "    }\n",
       "</style>\n",
       "<table border=\"1\" class=\"dataframe\">\n",
       "  <thead>\n",
       "    <tr style=\"text-align: right;\">\n",
       "      <th></th>\n",
       "      <th>UserID</th>\n",
       "      <th>AdID</th>\n",
       "      <th>ViewDate</th>\n",
       "    </tr>\n",
       "  </thead>\n",
       "  <tbody>\n",
       "    <tr>\n",
       "      <th>501</th>\n",
       "      <td>72</td>\n",
       "      <td>34873232</td>\n",
       "      <td>2015-05-13</td>\n",
       "    </tr>\n",
       "    <tr>\n",
       "      <th>502</th>\n",
       "      <td>72</td>\n",
       "      <td>7365843</td>\n",
       "      <td>2015-05-13</td>\n",
       "    </tr>\n",
       "    <tr>\n",
       "      <th>504</th>\n",
       "      <td>72</td>\n",
       "      <td>14210208</td>\n",
       "      <td>2015-05-13</td>\n",
       "    </tr>\n",
       "    <tr>\n",
       "      <th>506</th>\n",
       "      <td>72</td>\n",
       "      <td>3827989</td>\n",
       "      <td>2015-05-13</td>\n",
       "    </tr>\n",
       "    <tr>\n",
       "      <th>508</th>\n",
       "      <td>72</td>\n",
       "      <td>3739736</td>\n",
       "      <td>2015-05-14</td>\n",
       "    </tr>\n",
       "    <tr>\n",
       "      <th>...</th>\n",
       "      <td>...</td>\n",
       "      <td>...</td>\n",
       "      <td>...</td>\n",
       "    </tr>\n",
       "    <tr>\n",
       "      <th>42721496</th>\n",
       "      <td>4339848</td>\n",
       "      <td>17843729</td>\n",
       "      <td>2015-05-17</td>\n",
       "    </tr>\n",
       "    <tr>\n",
       "      <th>42721498</th>\n",
       "      <td>4339848</td>\n",
       "      <td>1473285</td>\n",
       "      <td>2015-05-17</td>\n",
       "    </tr>\n",
       "    <tr>\n",
       "      <th>42721503</th>\n",
       "      <td>4339848</td>\n",
       "      <td>9341500</td>\n",
       "      <td>2015-05-18</td>\n",
       "    </tr>\n",
       "    <tr>\n",
       "      <th>42721504</th>\n",
       "      <td>4339848</td>\n",
       "      <td>11989351</td>\n",
       "      <td>2015-05-18</td>\n",
       "    </tr>\n",
       "    <tr>\n",
       "      <th>42721508</th>\n",
       "      <td>4339848</td>\n",
       "      <td>27610315</td>\n",
       "      <td>2015-05-18</td>\n",
       "    </tr>\n",
       "  </tbody>\n",
       "</table>\n",
       "<p>5021120 rows × 3 columns</p>\n",
       "</div>"
      ],
      "text/plain": [
       "           UserID      AdID    ViewDate\n",
       "501            72  34873232  2015-05-13\n",
       "502            72   7365843  2015-05-13\n",
       "504            72  14210208  2015-05-13\n",
       "506            72   3827989  2015-05-13\n",
       "508            72   3739736  2015-05-14\n",
       "...           ...       ...         ...\n",
       "42721496  4339848  17843729  2015-05-17\n",
       "42721498  4339848   1473285  2015-05-17\n",
       "42721503  4339848   9341500  2015-05-18\n",
       "42721504  4339848  11989351  2015-05-18\n",
       "42721508  4339848  27610315  2015-05-18\n",
       "\n",
       "[5021120 rows x 3 columns]"
      ]
     },
     "execution_count": 5,
     "metadata": {},
     "output_type": "execute_result"
    }
   ],
   "source": [
    "iu_cnt = df_m5d13['AdID'].value_counts()\n",
    "i_index = iu_cnt[iu_cnt>=27].index\n",
    "icut_df = df_m5d13[df_m5d13['AdID'].isin(i_index)]\n",
    "ui_cnt = icut_df['UserID'].value_counts()\n",
    "u_index = ui_cnt[ui_cnt>=21].index\n",
    "uicut_df = icut_df[icut_df['UserID'].isin(u_index)]\n",
    "uicut_df"
   ]
  },
  {
   "cell_type": "code",
   "execution_count": 6,
   "metadata": {},
   "outputs": [
    {
     "data": {
      "text/plain": [
       "UserID      107548\n",
       "AdID        175738\n",
       "ViewDate         8\n",
       "dtype: int64"
      ]
     },
     "execution_count": 6,
     "metadata": {},
     "output_type": "execute_result"
    }
   ],
   "source": [
    "uicut_df.nunique()"
   ]
  },
  {
   "cell_type": "code",
   "execution_count": 10,
   "metadata": {},
   "outputs": [],
   "source": [
    "# uicut_df.drop_duplicates()"
   ]
  },
  {
   "cell_type": "code",
   "execution_count": 7,
   "metadata": {},
   "outputs": [
    {
     "data": {
      "text/plain": [
       "107541"
      ]
     },
     "execution_count": 7,
     "metadata": {},
     "output_type": "execute_result"
    }
   ],
   "source": [
    "utgroup = uicut_df.groupby(['UserID','ViewDate'])\n",
    "ut_c = utgroup.UserID.count()[lambda x: x >= 5]\n",
    "utc_id_index = ut_c.index.codes\n",
    "\n",
    "\n",
    "user_session = {}\n",
    "L = len(utc_id_index[0])\n",
    "for i in range(L): \n",
    "    loc_i = utc_id_index[0][i]\n",
    "    loc_j = utc_id_index[1][i]\n",
    "    uid = utc_id[0][loc_i]\n",
    "    tid = utc_id[1][loc_j]\n",
    "    if uid not in user_session:\n",
    "        user_session[uid] = []\n",
    "    user_session[uid].append(tid)\n",
    "    \n",
    "len(user_session)"
   ]
  },
  {
   "cell_type": "code",
   "execution_count": 11,
   "metadata": {},
   "outputs": [
    {
     "data": {
      "text/html": [
       "<div>\n",
       "<style scoped>\n",
       "    .dataframe tbody tr th:only-of-type {\n",
       "        vertical-align: middle;\n",
       "    }\n",
       "\n",
       "    .dataframe tbody tr th {\n",
       "        vertical-align: top;\n",
       "    }\n",
       "\n",
       "    .dataframe thead th {\n",
       "        text-align: right;\n",
       "    }\n",
       "</style>\n",
       "<table border=\"1\" class=\"dataframe\">\n",
       "  <thead>\n",
       "    <tr style=\"text-align: right;\">\n",
       "      <th></th>\n",
       "      <th>UserID</th>\n",
       "      <th>AdID</th>\n",
       "      <th>ViewDate</th>\n",
       "    </tr>\n",
       "  </thead>\n",
       "  <tbody>\n",
       "  </tbody>\n",
       "</table>\n",
       "</div>"
      ],
      "text/plain": [
       "Empty DataFrame\n",
       "Columns: [UserID, AdID, ViewDate]\n",
       "Index: []"
      ]
     },
     "execution_count": 11,
     "metadata": {},
     "output_type": "execute_result"
    }
   ],
   "source": [
    "df_cut=pd.DataFrame(columns=uicut_df.keys())\n",
    "df_cut"
   ]
  },
  {
   "cell_type": "code",
   "execution_count": 12,
   "metadata": {
    "scrolled": true
   },
   "outputs": [
    {
     "name": "stdout",
     "output_type": "stream",
     "text": [
      "cnt =  10000\n",
      "cnt =  20000\n",
      "cnt =  30000\n",
      "cnt =  40000\n",
      "cnt =  50000\n",
      "cnt =  60000\n",
      "cnt =  70000\n",
      "cnt =  80000\n",
      "cnt =  90000\n",
      "cnt =  100000\n"
     ]
    }
   ],
   "source": [
    "cnt = 0\n",
    "short_c = 0\n",
    "for uid in user_session: \n",
    "    cnt+=1\n",
    "    if cnt%10000==0:\n",
    "        print(\"cnt = \",cnt)\n",
    "    if len(user_session[uid])<4:\n",
    "        short_c+=1\n",
    "        continue\n",
    "    tid = user_session[uid]\n",
    "    df_oneuser = uicut_df[uicut_df[\"UserID\"]==uid]\n",
    "    df_row = df_oneuser[df_oneuser[\"ViewDate\"].isin(tid)]\n",
    "    df_cut = pd.concat([df_cut, df_row],ignore_index=True)\n"
   ]
  },
  {
   "cell_type": "code",
   "execution_count": 13,
   "metadata": {},
   "outputs": [
    {
     "data": {
      "text/plain": [
       "UserID       17993\n",
       "AdID        168254\n",
       "ViewDate         8\n",
       "dtype: int64"
      ]
     },
     "execution_count": 13,
     "metadata": {},
     "output_type": "execute_result"
    }
   ],
   "source": [
    "df_cut.nunique()"
   ]
  },
  {
   "cell_type": "code",
   "execution_count": null,
   "metadata": {},
   "outputs": [],
   "source": [
    "df4.to_csv('Avito_week.csv',index=0)"
   ]
  },
  {
   "cell_type": "code",
   "execution_count": null,
   "metadata": {},
   "outputs": [],
   "source": []
  },
  {
   "cell_type": "code",
   "execution_count": null,
   "metadata": {},
   "outputs": [],
   "source": [
    "ui_array = df4[['UserID','AdID']].values\n",
    "uid_turn = defaultdict(int)\n",
    "iid_turn = defaultdict(int)\n",
    "uid_cnt = 0\n",
    "# uid_cnt = 1\n",
    "# 因为用了np.zero生产数据,第0行也要有实际数据,所以uid要从0开始\n",
    "# maskid是0，对应的是item，userid可以是0\n",
    "iid_cnt = 1\n",
    "for row in ui_array:\n",
    "    uid = row[0]\n",
    "    iid = row[1]\n",
    "    if uid not in uid_turn:\n",
    "        uid_turn[uid] = uid_cnt\n",
    "        uid_cnt += 1\n",
    "    if iid not in iid_turn:\n",
    "        iid_turn[iid] = iid_cnt\n",
    "        iid_cnt += 1\n",
    "\n",
    "len(uid_turn)\n",
    "len(iid_turn)"
   ]
  },
  {
   "cell_type": "code",
   "execution_count": null,
   "metadata": {},
   "outputs": [],
   "source": [
    "uit_value = df4.values\n",
    "userList = {}\n",
    "for row in uit_value:\n",
    "    uid = uid_turn[row[0]]\n",
    "    iid = iid_turn[row[1]]\n",
    "    tid = row[2]\n",
    "    if uid not in userList:\n",
    "        userList[uid] = []\n",
    "        \n",
    "    userList[uid].append([iid,tid])\n"
   ]
  },
  {
   "cell_type": "code",
   "execution_count": null,
   "metadata": {},
   "outputs": [],
   "source": [
    "ut_List = {}\n",
    "for uid in userList:\n",
    "    it_list = userList[uid]\n",
    "    sessionList = {}\n",
    "    for row in it_list:\n",
    "        iid = row[0]\n",
    "        tid = row[1]\n",
    "        if tid not in sessionList:\n",
    "            sessionList[tid] = []\n",
    "        \n",
    "        sessionList[tid].append(iid)\n",
    "    \n",
    "    ut_List[uid] = sessionList\n",
    "        "
   ]
  },
  {
   "cell_type": "code",
   "execution_count": null,
   "metadata": {},
   "outputs": [],
   "source": [
    "u_List = {}\n",
    "for uid in ut_List:\n",
    "    u_List[uid] = []\n",
    "    for tid in ut_List[uid]:\n",
    "        u_List[uid].append(ut_List[uid][tid])"
   ]
  },
  {
   "cell_type": "code",
   "execution_count": null,
   "metadata": {},
   "outputs": [],
   "source": [
    "json_u_List = json.dumps(u_List)\n",
    "saveFile(json_u_List,'Avito.json')"
   ]
  },
  {
   "cell_type": "code",
   "execution_count": 10,
   "metadata": {},
   "outputs": [
    {
     "data": {
      "text/plain": [
       "UserID      107548\n",
       "AdID        175738\n",
       "ViewDate         8\n",
       "dtype: int64"
      ]
     },
     "execution_count": 10,
     "metadata": {},
     "output_type": "execute_result"
    }
   ],
   "source": [
    "uiclear1_sort_uit_df.nunique()"
   ]
  }
 ],
 "metadata": {
  "kernelspec": {
   "display_name": "Python 3 (ipykernel)",
   "language": "python",
   "name": "python3"
  },
  "language_info": {
   "codemirror_mode": {
    "name": "ipython",
    "version": 3
   },
   "file_extension": ".py",
   "mimetype": "text/x-python",
   "name": "python",
   "nbconvert_exporter": "python",
   "pygments_lexer": "ipython3",
   "version": "3.9.13"
  }
 },
 "nbformat": 4,
 "nbformat_minor": 2
}
