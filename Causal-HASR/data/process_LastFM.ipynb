{
 "cells": [
  {
   "cell_type": "code",
   "execution_count": 1,
   "metadata": {},
   "outputs": [],
   "source": [
    "import pandas as pd\n",
    "import numpy as np\n",
    "import json\n",
    "from collections import defaultdict"
   ]
  },
  {
   "cell_type": "code",
   "execution_count": 2,
   "metadata": {},
   "outputs": [],
   "source": [
    "pd.set_option('display.max_rows', 6)"
   ]
  },
  {
   "cell_type": "code",
   "execution_count": 3,
   "metadata": {},
   "outputs": [
    {
     "data": {
      "text/html": [
       "<div>\n",
       "<style scoped>\n",
       "    .dataframe tbody tr th:only-of-type {\n",
       "        vertical-align: middle;\n",
       "    }\n",
       "\n",
       "    .dataframe tbody tr th {\n",
       "        vertical-align: top;\n",
       "    }\n",
       "\n",
       "    .dataframe thead th {\n",
       "        text-align: right;\n",
       "    }\n",
       "</style>\n",
       "<table border=\"1\" class=\"dataframe\">\n",
       "  <thead>\n",
       "    <tr style=\"text-align: right;\">\n",
       "      <th></th>\n",
       "      <th>userID</th>\n",
       "      <th>artistID</th>\n",
       "      <th>tagID</th>\n",
       "      <th>timestamp</th>\n",
       "    </tr>\n",
       "  </thead>\n",
       "  <tbody>\n",
       "    <tr>\n",
       "      <th>0</th>\n",
       "      <td>2</td>\n",
       "      <td>52</td>\n",
       "      <td>13</td>\n",
       "      <td>1238536800000</td>\n",
       "    </tr>\n",
       "    <tr>\n",
       "      <th>1</th>\n",
       "      <td>2</td>\n",
       "      <td>52</td>\n",
       "      <td>15</td>\n",
       "      <td>1238536800000</td>\n",
       "    </tr>\n",
       "    <tr>\n",
       "      <th>2</th>\n",
       "      <td>2</td>\n",
       "      <td>52</td>\n",
       "      <td>18</td>\n",
       "      <td>1238536800000</td>\n",
       "    </tr>\n",
       "    <tr>\n",
       "      <th>...</th>\n",
       "      <td>...</td>\n",
       "      <td>...</td>\n",
       "      <td>...</td>\n",
       "      <td>...</td>\n",
       "    </tr>\n",
       "    <tr>\n",
       "      <th>186476</th>\n",
       "      <td>2100</td>\n",
       "      <td>16437</td>\n",
       "      <td>2087</td>\n",
       "      <td>1277935200000</td>\n",
       "    </tr>\n",
       "    <tr>\n",
       "      <th>186477</th>\n",
       "      <td>2100</td>\n",
       "      <td>16437</td>\n",
       "      <td>2801</td>\n",
       "      <td>1272664800000</td>\n",
       "    </tr>\n",
       "    <tr>\n",
       "      <th>186478</th>\n",
       "      <td>2100</td>\n",
       "      <td>16437</td>\n",
       "      <td>3335</td>\n",
       "      <td>1277935200000</td>\n",
       "    </tr>\n",
       "  </tbody>\n",
       "</table>\n",
       "<p>186479 rows × 4 columns</p>\n",
       "</div>"
      ],
      "text/plain": [
       "        userID  artistID  tagID      timestamp\n",
       "0            2        52     13  1238536800000\n",
       "1            2        52     15  1238536800000\n",
       "2            2        52     18  1238536800000\n",
       "...        ...       ...    ...            ...\n",
       "186476    2100     16437   2087  1277935200000\n",
       "186477    2100     16437   2801  1272664800000\n",
       "186478    2100     16437   3335  1277935200000\n",
       "\n",
       "[186479 rows x 4 columns]"
      ]
     },
     "execution_count": 3,
     "metadata": {},
     "output_type": "execute_result"
    }
   ],
   "source": [
    "df = pd.read_csv('user_taggedartists-timestamps.dat', sep='\\t')\n",
    "df"
   ]
  },
  {
   "cell_type": "code",
   "execution_count": 4,
   "metadata": {},
   "outputs": [
    {
     "data": {
      "text/plain": [
       "userID                   2\n",
       "artistID                 1\n",
       "tagID                    1\n",
       "timestamp    1122847200000\n",
       "dtype: int64"
      ]
     },
     "execution_count": 4,
     "metadata": {},
     "output_type": "execute_result"
    }
   ],
   "source": [
    "df1 = df[df[\"timestamp\"]>294357600000]\n",
    "df1.min()"
   ]
  },
  {
   "cell_type": "code",
   "execution_count": 5,
   "metadata": {},
   "outputs": [
    {
     "name": "stderr",
     "output_type": "stream",
     "text": [
      "e:\\language\\python37\\lib\\site-packages\\pandas\\core\\frame.py:3489: SettingWithCopyWarning: \n",
      "A value is trying to be set on a copy of a slice from a DataFrame.\n",
      "Try using .loc[row_indexer,col_indexer] = value instead\n",
      "\n",
      "See the caveats in the documentation: http://pandas.pydata.org/pandas-docs/stable/user_guide/indexing.html#returning-a-view-versus-a-copy\n",
      "  self[k1] = value[k2]\n"
     ]
    },
    {
     "data": {
      "text/html": [
       "<div>\n",
       "<style scoped>\n",
       "    .dataframe tbody tr th:only-of-type {\n",
       "        vertical-align: middle;\n",
       "    }\n",
       "\n",
       "    .dataframe tbody tr th {\n",
       "        vertical-align: top;\n",
       "    }\n",
       "\n",
       "    .dataframe thead th {\n",
       "        text-align: right;\n",
       "    }\n",
       "</style>\n",
       "<table border=\"1\" class=\"dataframe\">\n",
       "  <thead>\n",
       "    <tr style=\"text-align: right;\">\n",
       "      <th></th>\n",
       "      <th>userID</th>\n",
       "      <th>artistID</th>\n",
       "      <th>tagID</th>\n",
       "      <th>timestamp</th>\n",
       "    </tr>\n",
       "  </thead>\n",
       "  <tbody>\n",
       "    <tr>\n",
       "      <th>0</th>\n",
       "      <td>2</td>\n",
       "      <td>52</td>\n",
       "      <td>13</td>\n",
       "      <td>115689600000</td>\n",
       "    </tr>\n",
       "    <tr>\n",
       "      <th>1</th>\n",
       "      <td>2</td>\n",
       "      <td>52</td>\n",
       "      <td>15</td>\n",
       "      <td>115689600000</td>\n",
       "    </tr>\n",
       "    <tr>\n",
       "      <th>2</th>\n",
       "      <td>2</td>\n",
       "      <td>52</td>\n",
       "      <td>18</td>\n",
       "      <td>115689600000</td>\n",
       "    </tr>\n",
       "    <tr>\n",
       "      <th>...</th>\n",
       "      <td>...</td>\n",
       "      <td>...</td>\n",
       "      <td>...</td>\n",
       "      <td>...</td>\n",
       "    </tr>\n",
       "    <tr>\n",
       "      <th>186476</th>\n",
       "      <td>2100</td>\n",
       "      <td>16437</td>\n",
       "      <td>2087</td>\n",
       "      <td>155088000000</td>\n",
       "    </tr>\n",
       "    <tr>\n",
       "      <th>186477</th>\n",
       "      <td>2100</td>\n",
       "      <td>16437</td>\n",
       "      <td>2801</td>\n",
       "      <td>149817600000</td>\n",
       "    </tr>\n",
       "    <tr>\n",
       "      <th>186478</th>\n",
       "      <td>2100</td>\n",
       "      <td>16437</td>\n",
       "      <td>3335</td>\n",
       "      <td>155088000000</td>\n",
       "    </tr>\n",
       "  </tbody>\n",
       "</table>\n",
       "<p>186474 rows × 4 columns</p>\n",
       "</div>"
      ],
      "text/plain": [
       "        userID  artistID  tagID     timestamp\n",
       "0            2        52     13  115689600000\n",
       "1            2        52     15  115689600000\n",
       "2            2        52     18  115689600000\n",
       "...        ...       ...    ...           ...\n",
       "186476    2100     16437   2087  155088000000\n",
       "186477    2100     16437   2801  149817600000\n",
       "186478    2100     16437   3335  155088000000\n",
       "\n",
       "[186474 rows x 4 columns]"
      ]
     },
     "execution_count": 5,
     "metadata": {},
     "output_type": "execute_result"
    }
   ],
   "source": [
    "df1[[\"timestamp\"]] = df1[[\"timestamp\"]]-1122847200000\n",
    "df1"
   ]
  },
  {
   "cell_type": "code",
   "execution_count": 8,
   "metadata": {},
   "outputs": [],
   "source": [
    "uit_df = df1[[\"userID\",\"artistID\",\"timestamp\"]]\n",
    "sort_uit_df = uit_df.sort_values(by=['userID','timestamp'],ascending=[True,True]) \n",
    "sort_uit_df = sort_uit_df.drop_duplicates()\n",
    "sort_uit_df[[\"timestamp\"]] = (sort_uit_df[[\"timestamp\"]]/1000000000).astype(\"int\")"
   ]
  },
  {
   "cell_type": "code",
   "execution_count": 17,
   "metadata": {},
   "outputs": [
    {
     "data": {
      "text/plain": [
       "userID        1407\n",
       "artistID     12373\n",
       "timestamp       70\n",
       "dtype: int64"
      ]
     },
     "execution_count": 17,
     "metadata": {},
     "output_type": "execute_result"
    }
   ],
   "source": [
    "# 去除交互少于N的user和item\n",
    "ui_cnt = sort_uit_df['userID'].value_counts()\n",
    "u_index = ui_cnt[ui_cnt>=4].index\n",
    "ucut_df = sort_uit_df[sort_uit_df['userID'].isin(u_index)]\n",
    "ucut_df.nunique()"
   ]
  },
  {
   "cell_type": "code",
   "execution_count": 18,
   "metadata": {},
   "outputs": [
    {
     "data": {
      "text/plain": [
       "userID        1407\n",
       "artistID     12373\n",
       "timestamp       70\n",
       "dtype: int64"
      ]
     },
     "execution_count": 18,
     "metadata": {},
     "output_type": "execute_result"
    }
   ],
   "source": [
    "ucut_df = ucut_df.drop_duplicates()\n",
    "ucut_df.nunique()"
   ]
  },
  {
   "cell_type": "code",
   "execution_count": 19,
   "metadata": {},
   "outputs": [
    {
     "data": {
      "text/plain": [
       "1211"
      ]
     },
     "execution_count": 19,
     "metadata": {},
     "output_type": "execute_result"
    }
   ],
   "source": [
    "utgroup = ucut_df.groupby(['userID','timestamp'])\n",
    "ut_c = utgroup.userID.count()[lambda x: x >= 3]\n",
    "utc_id = ut_c.index.levels\n",
    "utc_id_index = ut_c.index.codes\n",
    "\n",
    "\n",
    "user_session = {}\n",
    "L = len(utc_id_index[0])\n",
    "for i in range(L): \n",
    "    loc_i = utc_id_index[0][i]\n",
    "    loc_j = utc_id_index[1][i]\n",
    "    uid = utc_id[0][loc_i]\n",
    "    tid = utc_id[1][loc_j]\n",
    "    if uid not in user_session:\n",
    "        user_session[uid] = []\n",
    "    if len(user_session[uid])<=8:\n",
    "        user_session[uid].append(tid)\n",
    "    \n",
    "len(user_session)\n"
   ]
  },
  {
   "cell_type": "code",
   "execution_count": 21,
   "metadata": {},
   "outputs": [
    {
     "data": {
      "text/html": [
       "<div>\n",
       "<style scoped>\n",
       "    .dataframe tbody tr th:only-of-type {\n",
       "        vertical-align: middle;\n",
       "    }\n",
       "\n",
       "    .dataframe tbody tr th {\n",
       "        vertical-align: top;\n",
       "    }\n",
       "\n",
       "    .dataframe thead th {\n",
       "        text-align: right;\n",
       "    }\n",
       "</style>\n",
       "<table border=\"1\" class=\"dataframe\">\n",
       "  <thead>\n",
       "    <tr style=\"text-align: right;\">\n",
       "      <th></th>\n",
       "      <th>userID</th>\n",
       "      <th>artistID</th>\n",
       "      <th>timestamp</th>\n",
       "    </tr>\n",
       "  </thead>\n",
       "  <tbody>\n",
       "  </tbody>\n",
       "</table>\n",
       "</div>"
      ],
      "text/plain": [
       "Empty DataFrame\n",
       "Columns: [userID, artistID, timestamp]\n",
       "Index: []"
      ]
     },
     "execution_count": 21,
     "metadata": {},
     "output_type": "execute_result"
    }
   ],
   "source": [
    "df_cut=pd.DataFrame(columns=ucut_df.keys())\n",
    "df_cut"
   ]
  },
  {
   "cell_type": "code",
   "execution_count": 22,
   "metadata": {},
   "outputs": [
    {
     "name": "stdout",
     "output_type": "stream",
     "text": [
      "cnt =  1000\n"
     ]
    }
   ],
   "source": [
    "cnt = 0\n",
    "short_c = 0\n",
    "for uid in user_session: \n",
    "#     if len(user_session[uid])<2:\n",
    "#         short_c+=1\n",
    "#         continue\n",
    "    cnt+=1\n",
    "    if cnt%1000==0:\n",
    "        print(\"cnt = \",cnt)\n",
    "    tid = user_session[uid]\n",
    "    df_oneuser = ucut_df[ucut_df[\"userID\"]==uid]\n",
    "#     df_oneuser\n",
    "    df_row = df_oneuser[df_oneuser[\"timestamp\"].isin(tid)]\n",
    "    df_cut = pd.concat([df_cut, df_row],ignore_index=True)\n",
    "    "
   ]
  },
  {
   "cell_type": "code",
   "execution_count": 23,
   "metadata": {},
   "outputs": [
    {
     "data": {
      "text/plain": [
       "userID        1211\n",
       "artistID     10802\n",
       "timestamp       70\n",
       "dtype: int64"
      ]
     },
     "execution_count": 23,
     "metadata": {},
     "output_type": "execute_result"
    }
   ],
   "source": [
    "df_cut.nunique()"
   ]
  },
  {
   "cell_type": "code",
   "execution_count": null,
   "metadata": {},
   "outputs": [],
   "source": [
    "df4.to_csv('LastFM_cut.csv',index=0)"
   ]
  },
  {
   "cell_type": "code",
   "execution_count": null,
   "metadata": {},
   "outputs": [],
   "source": [
    "ui_array = df4[['userID','artistID']].values\n",
    "uid_turn = defaultdict(int)\n",
    "iid_turn = defaultdict(int)\n",
    "uid_cnt = 0\n",
    "# uid_cnt = 1\n",
    "# 因为用了np.zero生产数据,第0行也要有实际数据,所以uid要从0开始\n",
    "# maskid是0，对应的是item，userid可以是0\n",
    "iid_cnt = 1\n",
    "for row in ui_array:\n",
    "    uid = row[0]\n",
    "    iid = row[1]\n",
    "    if uid not in uid_turn:\n",
    "        uid_turn[uid] = uid_cnt\n",
    "        uid_cnt += 1\n",
    "    if iid not in iid_turn:\n",
    "        iid_turn[iid] = iid_cnt\n",
    "        iid_cnt += 1\n",
    "\n",
    "len(uid_turn)\n",
    "len(iid_turn)"
   ]
  },
  {
   "cell_type": "code",
   "execution_count": null,
   "metadata": {},
   "outputs": [],
   "source": [
    "uit_value = df4.values\n",
    "userList = {}\n",
    "\n",
    "for row in uit_value:\n",
    "    uid = uid_turn[row[0]]\n",
    "    iid = iid_turn[row[1]]\n",
    "\n",
    "    tid = row[2]\n",
    "    if uid not in userList:\n",
    "        userList[uid] = []\n",
    "        \n",
    "    userList[uid].append([iid,tid])\n",
    "\n"
   ]
  },
  {
   "cell_type": "code",
   "execution_count": null,
   "metadata": {},
   "outputs": [],
   "source": [
    "ut_List = {}\n",
    "for uid in userList:\n",
    "    it_list = userList[uid]\n",
    "    sessionList = {}\n",
    "    for row in it_list:\n",
    "        \n",
    "        iid = row[0]\n",
    "        tid = row[1]\n",
    "        if tid not in sessionList:\n",
    "            sessionList[tid] = []\n",
    "\n",
    "        sessionList[tid].append(iid)\n",
    "    \n",
    "    ut_List[uid] = sessionList\n",
    "        "
   ]
  },
  {
   "cell_type": "code",
   "execution_count": null,
   "metadata": {},
   "outputs": [],
   "source": [
    "u_List = {}\n",
    "for uid in ut_List:\n",
    "    u_List[uid] = []\n",
    "    for tid in ut_List[uid]:\n",
    "        u_List[uid].append(ut_List[uid][tid])"
   ]
  },
  {
   "cell_type": "code",
   "execution_count": null,
   "metadata": {},
   "outputs": [],
   "source": [
    "json_u_List = json.dumps(u_List)\n",
    "saveFile(json_u_List,'LastFM.json')"
   ]
  }
 ],
 "metadata": {
  "kernelspec": {
   "display_name": "Python 3",
   "language": "python",
   "name": "python3"
  },
  "language_info": {
   "codemirror_mode": {
    "name": "ipython",
    "version": 3
   },
   "file_extension": ".py",
   "mimetype": "text/x-python",
   "name": "python",
   "nbconvert_exporter": "python",
   "pygments_lexer": "ipython3",
   "version": "3.7.4"
  }
 },
 "nbformat": 4,
 "nbformat_minor": 2
}
